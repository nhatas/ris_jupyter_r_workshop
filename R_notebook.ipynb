{
 "cells": [
  {
   "cell_type": "code",
   "execution_count": null,
   "id": "cda7e052-3459-4eb0-9b71-da2c068cb1c4",
   "metadata": {},
   "outputs": [],
   "source": [
    "# The datasets package needs to be loaded to access our data \n",
    "# For a full list of these datasets, type library(help = \"datasets\")\n",
    "library(datasets)\n",
    "data(iris)\n",
    "summary(iris)"
   ]
  },
  {
   "cell_type": "code",
   "execution_count": null,
   "id": "99cc3d43-5061-4aa4-a586-5745bbad7a73",
   "metadata": {},
   "outputs": [],
   "source": [
    "iris[1:5,1:5]"
   ]
  },
  {
   "cell_type": "code",
   "execution_count": null,
   "id": "4d9e10a3-dc02-4f65-a460-fdaa2870bdfd",
   "metadata": {},
   "outputs": [],
   "source": [
    "table(iris$Species)"
   ]
  },
  {
   "cell_type": "code",
   "execution_count": null,
   "id": "39a97633-f4ed-497b-9d64-ed6643638825",
   "metadata": {},
   "outputs": [],
   "source": [
    "boxplot(iris$Sepal.Length ~ iris$Species,ylab=\"Sepal.Length\")"
   ]
  },
  {
   "cell_type": "code",
   "execution_count": null,
   "id": "5deab6f6-bcc1-4a8f-b3b7-f5f20a9f039e",
   "metadata": {},
   "outputs": [],
   "source": [
    "boxplot(iris$Sepal.Width ~ iris$Species,ylab=\"Sepal.Width\")"
   ]
  },
  {
   "cell_type": "code",
   "execution_count": null,
   "id": "e2062e5b-d533-455a-8940-f01277fd5855",
   "metadata": {},
   "outputs": [],
   "source": [
    "boxplot(iris$Petal.Length ~ iris$Species,ylab=\"Petal.Length\")"
   ]
  },
  {
   "cell_type": "code",
   "execution_count": null,
   "id": "db426621-3c8e-40ff-a0a8-a2380c6d979f",
   "metadata": {},
   "outputs": [],
   "source": [
    "boxplot(iris$Petal.Width ~ iris$Species,ylab=\"Petal.Width\")"
   ]
  },
  {
   "cell_type": "code",
   "execution_count": null,
   "id": "42eb4f38-5827-4b15-b588-b2a6d229a789",
   "metadata": {},
   "outputs": [],
   "source": [
    "plot(iris$Petal.Length,iris$Petal.Width,col=iris$Species,pch=16)\n",
    "legend( x=\"topleft\", \n",
    "    legend=levels(as.factor(iris$Species)),\n",
    "    col=c(\"black\",\"red\",\"green\"), \n",
    "    pch=c(16) )"
   ]
  },
  {
   "cell_type": "code",
   "execution_count": null,
   "id": "5655f72d-3b3c-41cd-bf88-ab3c96ff3153",
   "metadata": {},
   "outputs": [],
   "source": [
    "plot(iris)"
   ]
  },
  {
   "cell_type": "code",
   "execution_count": null,
   "id": "c7f6863c-432f-4a06-acae-6c6ae9c52f15",
   "metadata": {},
   "outputs": [],
   "source": [
    "pairs(iris[1:4], main = \"Iris Data\", pch = 21, bg = c(\"red\", \"green3\", \"blue\")[unclass(iris$Species)])"
   ]
  },
  {
   "cell_type": "code",
   "execution_count": null,
   "id": "a20bb5b6-e62c-46b9-ba09-dc65444505f5",
   "metadata": {},
   "outputs": [],
   "source": [
    "# First we create a copy of our dataset\n",
    "iris_copy <- iris\n",
    "\n",
    "# We know that missing values are identifed in R by the symbol NA\n",
    "# We introduce several missing values in some columns\n",
    "iris_copy$Sepal.Length[c(15, 20, 50, 67, 97, 118)] <- NA\n",
    "iris_copy$Sepal.Width[c(4, 80, 97, 106)] <- NA\n",
    "iris_copy$Petal.Length[c(5, 17, 35, 49)] <- NA\n",
    "\n",
    "# Now we see that there are missing values in some columns\n",
    "summary(iris_copy)"
   ]
  },
  {
   "cell_type": "code",
   "execution_count": null,
   "id": "8ba5282c-0f45-4ba4-b802-d25b89b552ba",
   "metadata": {},
   "outputs": [],
   "source": [
    "# The first thing we can do is to ask if there is any missing value in our table\n",
    "length(which(is.na(iris_copy)))"
   ]
  },
  {
   "cell_type": "code",
   "execution_count": null,
   "id": "d7110a5a-155a-42d9-b5aa-0b5234f5a63f",
   "metadata": {},
   "outputs": [],
   "source": [
    "# We can check that we introduced 14 missing values in the table\n",
    "\n",
    "# There are several ways to identify rows containing NA's.\n",
    "# First we will use the complete.cases function (check ?complete.cases for information)\n",
    "# This function returns only rows without NA's. Putting ! in front of it we get only rows with NA's\n",
    "\n",
    "iris_NA <- iris_copy[!complete.cases(iris_copy), ]\n",
    "iris_NA"
   ]
  },
  {
   "cell_type": "code",
   "execution_count": null,
   "id": "8a11e24f-f336-49b3-9307-612460c1f618",
   "metadata": {},
   "outputs": [],
   "source": [
    "# We see that we have 13 rows with missing values on it \n",
    "\n",
    "# Another way is to search for TRUE values in the is.na function\n",
    "\n",
    "iris_NA <- iris_copy[rowSums(is.na(iris_copy)) > 0, ]\n",
    "iris_NA"
   ]
  },
  {
   "cell_type": "code",
   "execution_count": null,
   "id": "2a9428e8-fe5b-4a6e-a871-c93b96bf5ef0",
   "metadata": {},
   "outputs": [],
   "source": [
    "# In other cases we don't want to lose the information that we have in one row with missing values\n",
    "# In this case we will substitute the missing value with a numerical value \n",
    "\n",
    "# The first thing we can do is to introduce the mean of a column in a missing value\n",
    "# However it's more safe to use the median because it's not affected by outliers\n",
    "# However we should be careful as in this case it's more correct to introduce the mean for the proper species\n",
    "# We should do it column by column\n",
    "\n",
    "iris_copy[is.na(iris_copy$Sepal.Length) & (iris_copy$Species == \"setosa\"),\"Sepal.Length\"] <- median(iris_copy$Sepal.Length[which(iris_copy$Species == \"setosa\")], na.rm = TRUE)\n",
    "iris_NA <- iris_copy[!complete.cases(iris_copy), ]\n",
    "iris_NA"
   ]
  },
  {
   "cell_type": "code",
   "execution_count": null,
   "id": "157ae0ac-0c37-4b48-9615-d30aa84d2b3f",
   "metadata": {},
   "outputs": [],
   "source": [
    "# Now we have removed 3 NA's. Only 11 left\n",
    "\n",
    "iris_copy[is.na(iris_copy$Sepal.Length) & (iris_copy$Species == \"versicolor\"),\"Sepal.Length\"] <- median(iris_copy$Sepal.Length[which(iris_copy$Species == \"versicolor\")], na.rm = TRUE)\n",
    "iris_NA <- iris_copy[!complete.cases(iris_copy), ]\n",
    "iris_NA"
   ]
  },
  {
   "cell_type": "code",
   "execution_count": null,
   "id": "35a0b89a-39b7-4386-974f-4d70cd31e15c",
   "metadata": {},
   "outputs": [],
   "source": [
    "# Now we have removed 2 NA's. Only 9 left\n",
    "\n",
    "iris_copy[is.na(iris_copy$Sepal.Length) & (iris_copy$Species == \"virginica\"),\"Sepal.Length\"] <- median(iris_copy$Sepal.Length[which(iris_copy$Species == \"virginica\")], na.rm = TRUE)\n",
    "iris_NA <- iris_copy[!complete.cases(iris_copy), ]\n",
    "iris_NA"
   ]
  },
  {
   "cell_type": "code",
   "execution_count": null,
   "id": "3cc42fb7-e1c3-4628-a37c-e98ffadd109b",
   "metadata": {},
   "outputs": [],
   "source": [
    "# Now we have removed 1 NA's. Only 8 left\n",
    "\n",
    "iris_copy[is.na(iris_copy$Sepal.Width) & (iris_copy$Species == \"setosa\"),\"Sepal.Width\"] <- median(iris_copy$Sepal.Width[which(iris_copy$Species == \"setosa\")], na.rm = TRUE)\n",
    "iris_NA <- iris_copy[!complete.cases(iris_copy), ]\n",
    "iris_NA"
   ]
  },
  {
   "cell_type": "code",
   "execution_count": null,
   "id": "289b12a4-ca63-40d9-ad9f-74cee0226814",
   "metadata": {},
   "outputs": [],
   "source": [
    "# Now we have removed 1 NA's. Only 7 left\n",
    "iris_copy[is.na(iris_copy$Petal.Length) & (iris_copy$Species == \"setosa\"),\"Petal.Length\"] <- median(iris_copy$Petal.Length[which(iris_copy$Species == \"setosa\")], na.rm = TRUE)\n",
    "iris_NA <- iris_copy[!complete.cases(iris_copy), ]\n",
    "iris_NA"
   ]
  },
  {
   "cell_type": "code",
   "execution_count": null,
   "id": "75cbd81c-a164-448d-9cbc-0d34008d618d",
   "metadata": {},
   "outputs": [],
   "source": []
  }
 ],
 "metadata": {
  "kernelspec": {
   "display_name": "R",
   "language": "R",
   "name": "ir"
  },
  "language_info": {
   "codemirror_mode": "r",
   "file_extension": ".r",
   "mimetype": "text/x-r-source",
   "name": "R",
   "pygments_lexer": "r",
   "version": "4.1.0"
  }
 },
 "nbformat": 4,
 "nbformat_minor": 5
}
